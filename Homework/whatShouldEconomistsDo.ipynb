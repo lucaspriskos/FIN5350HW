{
 "cells": [
  {
   "cell_type": "markdown",
   "metadata": {},
   "source": [
    "Lucas Priskos\n",
    "\n",
    "FIN5330\n",
    "\n",
    "Final Essay\n",
    "\n",
    "# What Should Economists Do?\n",
    "\n",
    "When I took my first class in economics, the term economics was defined something along the lines of, “The study of how society chooses to allocate its scarce resources.” To make this definition more complete the word scarce was then defined to mean something along the lines of, “a good where not enough of it exists in society to satiate everyone’s wants and needs at a zero price.”  This is just saying that if a good were free, then it is considered scarce if the supply of the good could not meet the demand. This definition of economics seems to be a necessary but not a sufficient definition. I think the focus should be less on the allocation of scarce resources and more on an economic model’s ability to accurately predict human behavior in a range of different situations. \n",
    "\n",
    "The definition provided seems as if it often results in building mathematical utilitarian models that can be optimized under a given set of constraints. In his journal article “What Should Economists Do?”, Buchanan talks about a distinction between individuals and society in economic analysis. He says (Buchanan, 1964):\n",
    "\n",
    "    “The definition of our subject makes it all too easy to slip across the bridge between personal or individual units of decision and ‘social’ aggregates. In principle, this bridge is most difficult to cross, as most economists fully recognize when put to it…The utilitarians tried to cross the bridge by summing utilities.”\n",
    "\n",
    "Buchanan seems to take issue with this idea of summing personal utilities in order to mathematically analyze the utility of a “social aggregate.” Taking issue with this idea seems to be extremely justifiable. Utility is an ordinal measurement, so what does a sum of different ordinal measurements even mean? The ordinal nature of utility functions makes it impossible to make interpersonal utility comparisons yet this is exactly what economists are doing by optimizing the sum of personal utilities across a society. \n",
    "\n",
    "Buchanan goes on to say in his article (Buchanan, 1964), “If a utility function of the choosing agent is fully defined in advance, choice becomes purely mechanical.” Buchanan discusses the fact that if economic models are built by maximizing utility subject to certain constraints, then economics is nothing more than applied mathematics. What value are economists adding that could not be added by mathematicians? If the utility function is known then it is true that choice is purely mechanical. He goes on to say, “If I know what I want, a computer can make all of my choices for me. If I don’t not know what I want, no possible computer can derive my utility function since it does not really exist.” Economists can’t write perfect forms of a person’s utility function. To get back to his point about the bridge between individuals and society, not only do economists have to make certain (likely flawed) assumptions about a person’s behavior in order to even write down a utility function for them, economists often assume that every person in a society has the same utility function in order to perform standard utilitarian principles of optimization. These assumptions often include some idea of rationality where economists define certain axioms that a person must follow in order to be considered rational. But how reasonable is this? Do people actually follow these axioms of rationality? In many cases it doesn’t seem as if people behave rationally. Many economists have recognized this which resulted in a new branch of economics called behavioral economics. \n",
    "\n",
    "From observation of data, it has become a well understood idea that many people behave in a manner that is time inconsistent. In order to mathematically model this, behavioral economics has started to replace exponential discounting with hyperbolic discounting. If people behave in a time inconsistent manner, then modeling people like this certainly improves the predictive power of a model. Despite this being a potential improvement on Neo-Classical economics where everyone is rational, behavioral economics by itself still seems to fall short of what the field of economics should be.\n",
    "\n",
    "More than any other field, physics seems to have found what seems to be a perfect balance between theory and experiment. Which of these two branches of physics is leading the industry depends largely on which era of physics one is talking about. But, for most of the history of physics, theory and experiment have worked perfectly together to reveal truths (dare I use that word) about the universe. I see no reason why economics cannot move into this direction. What seems to be most interesting about physics is the fact that it works. It has strong predictive abilities. A computer would be impossible (or at the very least, far more difficult) to build and make advancements on if not for the ability of physicists to predict what the electrons in a circuit will do. This knowledge of electrons allows for communication between humans and computers through a binary language: on and off. By controlling these binary outcomes, humans have been able to get computers to perform tasks that were once unthinkable.\n",
    "\n",
    "An ability to make accurate predictions seems to be where any worthwhile field of study gains its usefulness. What good is a theory if it can’t tell us anything we don’t already know? It is true that a field like econometrics is useful not because of its predictive ability but because of its analytical ability. It is an attempt to analyze the ceteris paribus results from the implementation of a policy. But one must ask: would this analysis be necessary if economics improved in its predictive ability in the way that physics has? Maybe it is impossible to build an economics model with strong enough predictive power to determine the results of a policy before implementing the policy. But maybe this is a possibility. It is for that reason that advancing a science by focusing on its predictive power seems to be a far more interesting discipline. How should this be done in economics? The answer to this question may be to increase the use of simulation in economics. \n",
    "\n",
    "Julian Reiss defines simulation as (Reiss, 2011): “Simulation refers to the use of a computer in solving an equation that is not or cannot be solved analytically.” It is often the case in mathematical sciences that one is faced with a system of unsolvable differential equations. To take an example from class this year, look at Brownian motion that was used to price options. This differential equation was not solvable in closed form, yet using simulation, it could still be implemented in option pricing to provide a numerical solution under given circumstances. Paul Humphreys had the following to say about simulation (Humphreys, 2004): \n",
    "\n",
    "    “Because of their increased computational power, simulations usually allow a reduction in the degree of idealization needed in the underlying model, idealizations that often must be made in analytical modeling to achieve tractability. Because they are free from many of the practical limitations of real experiments, simulations and numerical experiments allow more flexibility and scope for changing boundary and initial conditions than do empirical experiments.”\n",
    "\n",
    "Experiments seem to be becoming more commonplace in economics, but simulation seems to be more powerful than a typical economics experiment. The ability of a computer to run millions of simulations in seconds or even fractions of a second creates a power that is unparalleled by experiments. Reiss also points out the simulations are less costly and often more ethical that economic experiments. Simulation also makes it far easier to get rid of idealizations that must be made in order to write down a solvable system of equations. Using simulation has greater potential to improve the predictive ability of economics than either experiments or mathematical models. \n",
    "\n",
    "Robert Axelrod agrees that simulation can improve the predictive ability of economics. He says (Axelrod, 1997):\n",
    "\n",
    "    “Simulation is able to take complicated inputs, process them by accounting for hypothesized mechanisms, and then generate their consequences as predictions. For example, if the goal is to predict interest rates in the economy three months into the future, simulation can be the best available technique.“\n",
    "\n",
    "Axelrod believes that simulation can be used to improve the models that are being used in the simulation. He even talks about how physicists have successfully built simulations for the motions of electrons and planets. In physics, there is something called the “3 body problem.” For example, it is fairly straightforward to derive equations of motion that model 2 planets orbiting each other. When a third planet is added, this creates a system of equations that are unsolvable. Does this mean that physicists should give up and conclude that they cannot have a model that is able to make predictions about systems with more than 2 bodies? Of course not. The problem was solved using simulation. \n",
    "\n",
    "Physics has the benefit of centuries worth of ground breaking discoveries. Economics is a much younger field and does not yet have that luxury. Many more advancements must be made before economics can compete with the predictive nature of physics models, but I see no reason to think that the field of economics cannot get there. In order to do this, economics is going to need to follow in the footsteps of physics. It will need to learn to combine theory with computer simulations in a meaningful manner. \n",
    "\n",
    "\n",
    "## References \n",
    "\n",
    "Axelrod, R. (1997). Advancing the Art of Simulation in the Social Sciences. _John Wiley and Sons_,3(2), 16-22. Retrieved December 13, 2017.\n",
    "\n",
    "Buchanan, J. M. (1964). What Should Economists Do. _Southern Economic Journal_,30(3), 213-222. Retrieved December 13, 2017.\n",
    "\n",
    "Humphrey, P. (2004). Extending Ourselves: Computational Science, Empiricism, and Scientific Method. _Oxford University Press_. Retrieved December 15, 2017.\n",
    "\n",
    "Reiss, J. (2011). A Plea for (Good) Simulations: Nudging Economics Toward an Experimental Science. _SAGE_,243-264. Retrieved December 14, 2017.\n",
    "\n"
   ]
  }
 ],
 "metadata": {
  "kernelspec": {
   "display_name": "Python 3",
   "language": "python",
   "name": "python3"
  },
  "language_info": {
   "codemirror_mode": {
    "name": "ipython",
    "version": 3
   },
   "file_extension": ".py",
   "mimetype": "text/x-python",
   "name": "python",
   "nbconvert_exporter": "python",
   "pygments_lexer": "ipython3",
   "version": "3.6.1"
  }
 },
 "nbformat": 4,
 "nbformat_minor": 2
}
